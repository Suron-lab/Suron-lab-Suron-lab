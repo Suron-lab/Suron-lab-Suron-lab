{
  "nbformat": 4,
  "nbformat_minor": 0,
  "metadata": {
    "colab": {
      "provenance": [],
      "authorship_tag": "ABX9TyPclIAsdag9zwBE3F14zg7O",
      "include_colab_link": true
    },
    "kernelspec": {
      "name": "python3",
      "display_name": "Python 3"
    },
    "language_info": {
      "name": "python"
    }
  },
  "cells": [
    {
      "cell_type": "markdown",
      "metadata": {
        "id": "view-in-github",
        "colab_type": "text"
      },
      "source": [
        "<a href=\"https://colab.research.google.com/github/Suron-lab/Suron-lab-Suron-lab/blob/main/Untitled1.ipynb\" target=\"_parent\"><img src=\"https://colab.research.google.com/assets/colab-badge.svg\" alt=\"Open In Colab\"/></a>"
      ]
    },
    {
      "cell_type": "code",
      "execution_count": null,
      "metadata": {
        "colab": {
          "base_uri": "https://localhost:8080/"
        },
        "id": "kgdJvwAZ7Ai6",
        "outputId": "1e64cd3b-63da-4fe7-aae1-1a69c8f77d10"
      },
      "outputs": [
        {
          "output_type": "stream",
          "name": "stdout",
          "text": [
            "Overwriting factorial.cpp\n"
          ]
        }
      ],
      "source": [
        "%%writefile factorial.cpp\n",
        "\n",
        "#include<iostream>\n",
        "using namespace std;\n",
        "\n",
        "int factorial(int n){\n",
        "  if(n==1)\n",
        "    return 1;\n",
        "  else\n",
        "    return n*factorial(n-1);\n",
        "}\n",
        "\n",
        "int main(){\n",
        "  int num=15;\n",
        "  cout<<\"Factorial of \"<<num<<\" is \"<<factorial(num)<<endl;\n",
        "  return 0;\n",
        "}"
      ]
    },
    {
      "cell_type": "code",
      "source": [
        "!g++ factorial.cpp"
      ],
      "metadata": {
        "id": "8pdQksFU8h7W"
      },
      "execution_count": null,
      "outputs": []
    },
    {
      "cell_type": "code",
      "source": [
        "!./a.out"
      ],
      "metadata": {
        "colab": {
          "base_uri": "https://localhost:8080/"
        },
        "id": "iANoTdl484Wh",
        "outputId": "616d133b-8f9e-4a20-97f0-5b3043706b13"
      },
      "execution_count": null,
      "outputs": [
        {
          "output_type": "stream",
          "name": "stdout",
          "text": [
            "Factorial of 15 is 2004310016\n"
          ]
        }
      ]
    },
    {
      "cell_type": "code",
      "source": [
        "%%writefile fibonacci.cpp\n",
        "#include <iostream>\n",
        "using namespace std;\n",
        "\n",
        "void fibonacci(int n) {\n",
        "    int a = 0, b = 1, next;\n",
        "\n",
        "    for (int i = 0; i < n; ++i) {\n",
        "        cout << a << \" \";\n",
        "        next = a + b;\n",
        "        a = b;\n",
        "        b = next;\n",
        "    }\n",
        "    cout << endl;\n",
        "}\n",
        "\n",
        "int main() {\n",
        "    int terms;\n",
        "    cout << \"Enter the number of terms: \";\n",
        "    cin >> terms;\n",
        "\n",
        "    cout << \"Fibonacci sequence up to \" << terms << \" terms:\" << endl;\n",
        "    fibonacci(terms);\n",
        "\n",
        "    return 0;\n",
        "}"
      ],
      "metadata": {
        "id": "aeo7H14RCBAf",
        "colab": {
          "base_uri": "https://localhost:8080/"
        },
        "outputId": "ebec0581-42ee-4798-83ae-ab2f3ebcac42"
      },
      "execution_count": 50,
      "outputs": [
        {
          "output_type": "stream",
          "name": "stdout",
          "text": [
            "Writing fibonacci.cpp\n"
          ]
        }
      ]
    },
    {
      "cell_type": "code",
      "source": [
        "!g++ fibonacci.cpp"
      ],
      "metadata": {
        "id": "p9pRejXSDDHq"
      },
      "execution_count": 52,
      "outputs": []
    },
    {
      "cell_type": "code",
      "source": [
        "!./a.out"
      ],
      "metadata": {
        "colab": {
          "base_uri": "https://localhost:8080/"
        },
        "id": "1hHuCiCsDHBV",
        "outputId": "d41fb5b0-ac77-4726-b2f1-65ceac51bb03"
      },
      "execution_count": 56,
      "outputs": [
        {
          "output_type": "stream",
          "name": "stdout",
          "text": [
            "Enter the number of terms: 15\n",
            "Fibonacci sequence up to 15 terms:\n",
            "0 1 1 2 3 5 8 13 21 34 55 89 144 233 377 \n"
          ]
        }
      ]
    }
  ]
}